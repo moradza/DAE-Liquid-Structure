{
 "cells": [
  {
   "cell_type": "markdown",
   "metadata": {},
   "source": [
    "# DAE demo\n",
    " - Tensorflow version 1.4.0 is required\n",
    " - Pandas packages is required"
   ]
  },
  {
   "cell_type": "code",
   "execution_count": 14,
   "metadata": {},
   "outputs": [],
   "source": [
    "import os\n",
    "os.chdir('C:\\\\Users\\\\amrdz\\\\JupyterNotebooks\\\\DAE-Liquid-Structure')"
   ]
  },
  {
   "cell_type": "code",
   "execution_count": 15,
   "metadata": {},
   "outputs": [],
   "source": [
    "from main import *"
   ]
  },
  {
   "cell_type": "code",
   "execution_count": 16,
   "metadata": {},
   "outputs": [
    {
     "name": "stdout",
     "output_type": "stream",
     "text": [
      "INFO:tensorflow:Restoring parameters from C:\\Users\\amrdz\\JupyterNotebooks\\DAE-Liquid-Structure\\checkpoint\\checkpoint.ckpt-6000000\n"
     ]
    }
   ],
   "source": [
    "if mode == 'predict':\n",
    "    model.load(load_dir,ct = 'checkpoint.ckpt-0.meta', step=6000000)\n",
    "    vbatch_x_rdf, _ =  train_rdf_rd.next()\n",
    "    vbatch_x_rdf = vbatch_x_rdf[:,:,50:]\n",
    "    vbatch_x_temp, _ =  train_temp_rd.next()\n",
    "    vbatch_x_dens, _ =  train_dens_rd.next()\n",
    "    vbatch_x_all = combine3(vbatch_x_rdf, vbatch_x_temp, vbatch_x_dens)\n",
    "    vbatch_x = vbatch_x_all[1:,:,:].reshape((-1, model._ndims), order='F')\n",
    "    batch_x = vbatch_x[10,:].reshape((1,-1))    \n",
    "    predicted_rdfs = model.generate_samples(batch_x)"
   ]
  },
  {
   "cell_type": "code",
   "execution_count": null,
   "metadata": {},
   "outputs": [],
   "source": []
  }
 ],
 "metadata": {
  "kernelspec": {
   "display_name": "Python 3",
   "language": "python",
   "name": "python3"
  },
  "language_info": {
   "codemirror_mode": {
    "name": "ipython",
    "version": 3
   },
   "file_extension": ".py",
   "mimetype": "text/x-python",
   "name": "python",
   "nbconvert_exporter": "python",
   "pygments_lexer": "ipython3",
   "version": "3.7.10"
  }
 },
 "nbformat": 4,
 "nbformat_minor": 4
}
